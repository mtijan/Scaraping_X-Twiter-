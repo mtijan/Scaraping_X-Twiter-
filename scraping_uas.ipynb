{
  "cells": [
    {
      "cell_type": "code",
      "execution_count": 2,
      "metadata": {
        "id": "NRv1K2JW8fth"
      },
      "outputs": [],
      "source": [
        "import snscrape.modules.twitter as sntwitter\n",
        "import pandas as pd\n",
        "import csv\n",
        "from csv import writer\n",
        "import matplotlib.pyplot as plt\n",
        "import re\n",
        "import seaborn as sns"
      ]
    },
    {
      "attachments": {},
      "cell_type": "markdown",
      "metadata": {},
      "source": [
        "Crawling Data dari Twiter Menggunakna liblary snscrape"
      ]
    },
    {
      "cell_type": "code",
      "execution_count": null,
      "metadata": {
        "id": "6e9HI0jc8ftl"
      },
      "outputs": [],
      "source": [
        "query = \"pelecehan seksual universitas until:2022-12-31 since:2015-01-01\"\n",
        "tweets = []\n",
        "limits = 2000\n",
        "\n",
        "for tweet in sntwitter.TwitterSearchScraper(query).get_items():\n",
        "    #print(vars(tweet))\n",
        "    #break\n",
        "\n",
        "    if len(tweets)== limits:\n",
        "        break\n",
        "    else:\n",
        "        tweets.append([tweet.date, tweet.user.username, tweet.content])\n",
        "\n",
        "df = pd.DataFrame(tweets, columns=['Date', 'User', 'Tweet'])"
      ]
    },
    {
      "cell_type": "code",
      "execution_count": 10,
      "metadata": {
        "colab": {
          "base_uri": "https://localhost:8080/",
          "height": 292
        },
        "id": "PEacaP-28fto",
        "outputId": "8ed2b6c7-b92a-4e6e-eb17-14a83a64ecfc"
      },
      "outputs": [
        {
          "name": "stderr",
          "output_type": "stream",
          "text": [
            "C:\\Users\\Lenovo\\AppData\\Local\\Temp\\ipykernel_18012\\2976936189.py:2: FutureWarning: Treating datetime data as categorical rather than numeric in `.describe` is deprecated and will be removed in a future version of pandas. Specify `datetime_is_numeric=True` to silence this warning and adopt the future behavior now.\n",
            "  df.describe()\n"
          ]
        },
        {
          "data": {
            "text/html": [
              "<div>\n",
              "<style scoped>\n",
              "    .dataframe tbody tr th:only-of-type {\n",
              "        vertical-align: middle;\n",
              "    }\n",
              "\n",
              "    .dataframe tbody tr th {\n",
              "        vertical-align: top;\n",
              "    }\n",
              "\n",
              "    .dataframe thead th {\n",
              "        text-align: right;\n",
              "    }\n",
              "</style>\n",
              "<table border=\"1\" class=\"dataframe\">\n",
              "  <thead>\n",
              "    <tr style=\"text-align: right;\">\n",
              "      <th></th>\n",
              "      <th>Date</th>\n",
              "      <th>User</th>\n",
              "      <th>Tweet</th>\n",
              "    </tr>\n",
              "  </thead>\n",
              "  <tbody>\n",
              "    <tr>\n",
              "      <th>count</th>\n",
              "      <td>1411</td>\n",
              "      <td>1411</td>\n",
              "      <td>1411</td>\n",
              "    </tr>\n",
              "    <tr>\n",
              "      <th>unique</th>\n",
              "      <td>1401</td>\n",
              "      <td>854</td>\n",
              "      <td>1407</td>\n",
              "    </tr>\n",
              "    <tr>\n",
              "      <th>top</th>\n",
              "      <td>2019-10-07 04:21:33+00:00</td>\n",
              "      <td>kumparan</td>\n",
              "      <td>Agensi Bantah Jo Min Ki Dipecat dari Universit...</td>\n",
              "    </tr>\n",
              "    <tr>\n",
              "      <th>freq</th>\n",
              "      <td>2</td>\n",
              "      <td>39</td>\n",
              "      <td>3</td>\n",
              "    </tr>\n",
              "    <tr>\n",
              "      <th>first</th>\n",
              "      <td>2015-05-02 01:14:04+00:00</td>\n",
              "      <td>NaN</td>\n",
              "      <td>NaN</td>\n",
              "    </tr>\n",
              "    <tr>\n",
              "      <th>last</th>\n",
              "      <td>2022-12-29 08:30:40+00:00</td>\n",
              "      <td>NaN</td>\n",
              "      <td>NaN</td>\n",
              "    </tr>\n",
              "  </tbody>\n",
              "</table>\n",
              "</div>"
            ],
            "text/plain": [
              "                             Date      User  \\\n",
              "count                        1411      1411   \n",
              "unique                       1401       854   \n",
              "top     2019-10-07 04:21:33+00:00  kumparan   \n",
              "freq                            2        39   \n",
              "first   2015-05-02 01:14:04+00:00       NaN   \n",
              "last    2022-12-29 08:30:40+00:00       NaN   \n",
              "\n",
              "                                                    Tweet  \n",
              "count                                                1411  \n",
              "unique                                               1407  \n",
              "top     Agensi Bantah Jo Min Ki Dipecat dari Universit...  \n",
              "freq                                                    3  \n",
              "first                                                 NaN  \n",
              "last                                                  NaN  "
            ]
          },
          "execution_count": 10,
          "metadata": {},
          "output_type": "execute_result"
        }
      ],
      "source": [
        "df.to_csv('tweet_1.csv')\n",
        "df.describe()"
      ]
    },
    {
      "cell_type": "code",
      "execution_count": 127,
      "metadata": {
        "id": "YkbTxg0x8ftr"
      },
      "outputs": [],
      "source": [
        "# df = pd.read_csv('tweet_1.csv')\n",
        "# words = ['wanita','Wanita','Perempuan','perempuan','korban wanita','Korban wanita']\n",
        "# df = df[df['Tweet'].apply(lambda x: any(word in x for word in words))]"
      ]
    },
    {
      "cell_type": "code",
      "execution_count": 11,
      "metadata": {
        "colab": {
          "base_uri": "https://localhost:8080/",
          "height": 292
        },
        "id": "ibPEY1kn8fts",
        "outputId": "0e187232-1244-4410-f9fc-4eddafd9c6be"
      },
      "outputs": [
        {
          "name": "stderr",
          "output_type": "stream",
          "text": [
            "C:\\Users\\Lenovo\\AppData\\Local\\Temp\\ipykernel_18012\\3627053830.py:1: FutureWarning: Treating datetime data as categorical rather than numeric in `.describe` is deprecated and will be removed in a future version of pandas. Specify `datetime_is_numeric=True` to silence this warning and adopt the future behavior now.\n",
            "  df.describe()\n"
          ]
        },
        {
          "data": {
            "text/html": [
              "<div>\n",
              "<style scoped>\n",
              "    .dataframe tbody tr th:only-of-type {\n",
              "        vertical-align: middle;\n",
              "    }\n",
              "\n",
              "    .dataframe tbody tr th {\n",
              "        vertical-align: top;\n",
              "    }\n",
              "\n",
              "    .dataframe thead th {\n",
              "        text-align: right;\n",
              "    }\n",
              "</style>\n",
              "<table border=\"1\" class=\"dataframe\">\n",
              "  <thead>\n",
              "    <tr style=\"text-align: right;\">\n",
              "      <th></th>\n",
              "      <th>Date</th>\n",
              "      <th>User</th>\n",
              "      <th>Tweet</th>\n",
              "    </tr>\n",
              "  </thead>\n",
              "  <tbody>\n",
              "    <tr>\n",
              "      <th>count</th>\n",
              "      <td>1411</td>\n",
              "      <td>1411</td>\n",
              "      <td>1411</td>\n",
              "    </tr>\n",
              "    <tr>\n",
              "      <th>unique</th>\n",
              "      <td>1401</td>\n",
              "      <td>854</td>\n",
              "      <td>1407</td>\n",
              "    </tr>\n",
              "    <tr>\n",
              "      <th>top</th>\n",
              "      <td>2019-10-07 04:21:33+00:00</td>\n",
              "      <td>kumparan</td>\n",
              "      <td>Agensi Bantah Jo Min Ki Dipecat dari Universit...</td>\n",
              "    </tr>\n",
              "    <tr>\n",
              "      <th>freq</th>\n",
              "      <td>2</td>\n",
              "      <td>39</td>\n",
              "      <td>3</td>\n",
              "    </tr>\n",
              "    <tr>\n",
              "      <th>first</th>\n",
              "      <td>2015-05-02 01:14:04+00:00</td>\n",
              "      <td>NaN</td>\n",
              "      <td>NaN</td>\n",
              "    </tr>\n",
              "    <tr>\n",
              "      <th>last</th>\n",
              "      <td>2022-12-29 08:30:40+00:00</td>\n",
              "      <td>NaN</td>\n",
              "      <td>NaN</td>\n",
              "    </tr>\n",
              "  </tbody>\n",
              "</table>\n",
              "</div>"
            ],
            "text/plain": [
              "                             Date      User  \\\n",
              "count                        1411      1411   \n",
              "unique                       1401       854   \n",
              "top     2019-10-07 04:21:33+00:00  kumparan   \n",
              "freq                            2        39   \n",
              "first   2015-05-02 01:14:04+00:00       NaN   \n",
              "last    2022-12-29 08:30:40+00:00       NaN   \n",
              "\n",
              "                                                    Tweet  \n",
              "count                                                1411  \n",
              "unique                                               1407  \n",
              "top     Agensi Bantah Jo Min Ki Dipecat dari Universit...  \n",
              "freq                                                    3  \n",
              "first                                                 NaN  \n",
              "last                                                  NaN  "
            ]
          },
          "execution_count": 11,
          "metadata": {},
          "output_type": "execute_result"
        }
      ],
      "source": [
        "df.describe()"
      ]
    },
    {
      "cell_type": "code",
      "execution_count": 12,
      "metadata": {
        "id": "Q72XJyfo8fts"
      },
      "outputs": [],
      "source": [
        "query = \"kekerasan seksual universitas until:2022-12-31 since:2015-01-01\"\n",
        "tweets = []\n",
        "limits = 2000\n",
        "\n",
        "for tweet in sntwitter.TwitterSearchScraper(query).get_items():\n",
        "    #print(vars(tweet))\n",
        "    #break\n",
        "\n",
        "    if len(tweets)== limits:\n",
        "        break\n",
        "    else:\n",
        "        tweets.append([tweet.date, tweet.user.username, tweet.content])\n",
        "\n",
        "df2 = pd.DataFrame(tweets, columns=['Date', 'User', 'Tweet'])\n",
        "\n"
      ]
    },
    {
      "cell_type": "code",
      "execution_count": 13,
      "metadata": {
        "id": "p5X_2BRO8ftu"
      },
      "outputs": [],
      "source": [
        "df2.to_csv('tweet_2.csv')"
      ]
    },
    {
      "cell_type": "code",
      "execution_count": 14,
      "metadata": {
        "id": "lxTrYw5A8ftu"
      },
      "outputs": [],
      "source": [
        "# df2 = pd.read_csv('tweet_3.csv')\n",
        "# words = ['Perempuan','perempuan','wanita','Wanita']\n",
        "# df2 = df[df['Tweet'].apply(lambda x: any(word in x for word in words))]"
      ]
    },
    {
      "cell_type": "code",
      "execution_count": 15,
      "metadata": {
        "colab": {
          "base_uri": "https://localhost:8080/",
          "height": 424
        },
        "id": "8H0pqjl28ftv",
        "outputId": "61c938de-bec6-4a4c-d988-e3d0fe8c0564"
      },
      "outputs": [
        {
          "data": {
            "text/html": [
              "<div>\n",
              "<style scoped>\n",
              "    .dataframe tbody tr th:only-of-type {\n",
              "        vertical-align: middle;\n",
              "    }\n",
              "\n",
              "    .dataframe tbody tr th {\n",
              "        vertical-align: top;\n",
              "    }\n",
              "\n",
              "    .dataframe thead th {\n",
              "        text-align: right;\n",
              "    }\n",
              "</style>\n",
              "<table border=\"1\" class=\"dataframe\">\n",
              "  <thead>\n",
              "    <tr style=\"text-align: right;\">\n",
              "      <th></th>\n",
              "      <th>Date</th>\n",
              "      <th>User</th>\n",
              "      <th>Tweet</th>\n",
              "    </tr>\n",
              "  </thead>\n",
              "  <tbody>\n",
              "    <tr>\n",
              "      <th>0</th>\n",
              "      <td>2022-12-29 08:30:40+00:00</td>\n",
              "      <td>UMufris</td>\n",
              "      <td>Kekerasan | sexual consent | Muslimah news\\nFa...</td>\n",
              "    </tr>\n",
              "    <tr>\n",
              "      <th>1</th>\n",
              "      <td>2022-12-29 05:15:01+00:00</td>\n",
              "      <td>WartaEkonomi</td>\n",
              "      <td>Bejat! Dosen di Padang Lecehkan 8 Mahasiswa, K...</td>\n",
              "    </tr>\n",
              "    <tr>\n",
              "      <th>2</th>\n",
              "      <td>2022-12-28 05:59:33+00:00</td>\n",
              "      <td>officialunismuh</td>\n",
              "      <td>BERITA VIDEO: Cegah Kekerasan Seksual di PT, B...</td>\n",
              "    </tr>\n",
              "    <tr>\n",
              "      <th>3</th>\n",
              "      <td>2022-12-27 10:45:31+00:00</td>\n",
              "      <td>AuisGrand</td>\n",
              "      <td>Pihak kepolisian belum bisa memproses hukum do...</td>\n",
              "    </tr>\n",
              "    <tr>\n",
              "      <th>4</th>\n",
              "      <td>2022-12-27 10:43:33+00:00</td>\n",
              "      <td>KompasKlasika</td>\n",
              "      <td>Pihak kepolisian belum bisa memproses hukum do...</td>\n",
              "    </tr>\n",
              "    <tr>\n",
              "      <th>...</th>\n",
              "      <td>...</td>\n",
              "      <td>...</td>\n",
              "      <td>...</td>\n",
              "    </tr>\n",
              "    <tr>\n",
              "      <th>1565</th>\n",
              "      <td>2015-03-05 04:06:24+00:00</td>\n",
              "      <td>Onai_Oxygen</td>\n",
              "      <td>3 Ahli Psikolog Diskusi Kekerasan Seksual Anak...</td>\n",
              "    </tr>\n",
              "    <tr>\n",
              "      <th>1566</th>\n",
              "      <td>2015-03-05 04:05:35+00:00</td>\n",
              "      <td>KoyanBtm</td>\n",
              "      <td>3 Ahli Psikolog Diskusi Kekerasan Seksual Anak...</td>\n",
              "    </tr>\n",
              "    <tr>\n",
              "      <th>1567</th>\n",
              "      <td>2015-02-02 02:34:13+00:00</td>\n",
              "      <td>bellaganora</td>\n",
              "      <td>Seminar kekerasan seksual 'WHEN I FOUND… (w/ R...</td>\n",
              "    </tr>\n",
              "    <tr>\n",
              "      <th>1568</th>\n",
              "      <td>2015-02-02 02:34:12+00:00</td>\n",
              "      <td>alipiong</td>\n",
              "      <td>seminar kekerasan seksual 'when i found them'…...</td>\n",
              "    </tr>\n",
              "    <tr>\n",
              "      <th>1569</th>\n",
              "      <td>2015-02-02 02:26:41+00:00</td>\n",
              "      <td>arizkywdy</td>\n",
              "      <td>Seminar kekerasan seksual… (w/ Putranti, Safir...</td>\n",
              "    </tr>\n",
              "  </tbody>\n",
              "</table>\n",
              "<p>1570 rows × 3 columns</p>\n",
              "</div>"
            ],
            "text/plain": [
              "                          Date             User  \\\n",
              "0    2022-12-29 08:30:40+00:00          UMufris   \n",
              "1    2022-12-29 05:15:01+00:00     WartaEkonomi   \n",
              "2    2022-12-28 05:59:33+00:00  officialunismuh   \n",
              "3    2022-12-27 10:45:31+00:00        AuisGrand   \n",
              "4    2022-12-27 10:43:33+00:00    KompasKlasika   \n",
              "...                        ...              ...   \n",
              "1565 2015-03-05 04:06:24+00:00      Onai_Oxygen   \n",
              "1566 2015-03-05 04:05:35+00:00         KoyanBtm   \n",
              "1567 2015-02-02 02:34:13+00:00      bellaganora   \n",
              "1568 2015-02-02 02:34:12+00:00         alipiong   \n",
              "1569 2015-02-02 02:26:41+00:00        arizkywdy   \n",
              "\n",
              "                                                  Tweet  \n",
              "0     Kekerasan | sexual consent | Muslimah news\\nFa...  \n",
              "1     Bejat! Dosen di Padang Lecehkan 8 Mahasiswa, K...  \n",
              "2     BERITA VIDEO: Cegah Kekerasan Seksual di PT, B...  \n",
              "3     Pihak kepolisian belum bisa memproses hukum do...  \n",
              "4     Pihak kepolisian belum bisa memproses hukum do...  \n",
              "...                                                 ...  \n",
              "1565  3 Ahli Psikolog Diskusi Kekerasan Seksual Anak...  \n",
              "1566  3 Ahli Psikolog Diskusi Kekerasan Seksual Anak...  \n",
              "1567  Seminar kekerasan seksual 'WHEN I FOUND… (w/ R...  \n",
              "1568  seminar kekerasan seksual 'when i found them'…...  \n",
              "1569  Seminar kekerasan seksual… (w/ Putranti, Safir...  \n",
              "\n",
              "[1570 rows x 3 columns]"
            ]
          },
          "execution_count": 15,
          "metadata": {},
          "output_type": "execute_result"
        }
      ],
      "source": [
        "df2"
      ]
    },
    {
      "attachments": {},
      "cell_type": "markdown",
      "metadata": {},
      "source": [
        "Data Disatukan menjadi satu bentuk File"
      ]
    },
    {
      "cell_type": "code",
      "execution_count": 53,
      "metadata": {
        "id": "FzUgqsx78ftw"
      },
      "outputs": [
        {
          "ename": "NameError",
          "evalue": "name 'df' is not defined",
          "output_type": "error",
          "traceback": [
            "\u001b[1;31m---------------------------------------------------------------------------\u001b[0m",
            "\u001b[1;31mNameError\u001b[0m                                 Traceback (most recent call last)",
            "Cell \u001b[1;32mIn[53], line 1\u001b[0m\n\u001b[1;32m----> 1\u001b[0m df3 \u001b[39m=\u001b[39m pd\u001b[39m.\u001b[39mconcat([df,df2])\n\u001b[0;32m      2\u001b[0m df3\u001b[39m.\u001b[39mto_csv(\u001b[39m'\u001b[39m\u001b[39mtweet_3.csv\u001b[39m\u001b[39m'\u001b[39m)\n",
            "\u001b[1;31mNameError\u001b[0m: name 'df' is not defined"
          ]
        }
      ],
      "source": [
        "df3 = pd.concat([df,df2])\n",
        "df3.to_csv('tweet_3.csv')"
      ]
    },
    {
      "cell_type": "code",
      "execution_count": 52,
      "metadata": {
        "colab": {
          "base_uri": "https://localhost:8080/",
          "height": 292
        },
        "id": "6MM9QinoBcrA",
        "outputId": "42328214-373a-44d9-dbcb-55c969e0dd7f"
      },
      "outputs": [
        {
          "ename": "NameError",
          "evalue": "name 'df3' is not defined",
          "output_type": "error",
          "traceback": [
            "\u001b[1;31m---------------------------------------------------------------------------\u001b[0m",
            "\u001b[1;31mNameError\u001b[0m                                 Traceback (most recent call last)",
            "Cell \u001b[1;32mIn[52], line 1\u001b[0m\n\u001b[1;32m----> 1\u001b[0m df3\u001b[39m.\u001b[39mdescribe()\n",
            "\u001b[1;31mNameError\u001b[0m: name 'df3' is not defined"
          ]
        }
      ],
      "source": [
        "df3.describe()"
      ]
    },
    {
      "cell_type": "code",
      "execution_count": 4,
      "metadata": {
        "id": "ADZ_VHbb955I"
      },
      "outputs": [],
      "source": [
        "import html\n",
        "import re\n",
        "from nltk.corpus import stopwords\n",
        "from nltk.tokenize import word_tokenize, sent_tokenize"
      ]
    },
    {
      "cell_type": "code",
      "execution_count": 5,
      "metadata": {
        "colab": {
          "base_uri": "https://localhost:8080/",
          "height": 175
        },
        "id": "93RNLcqfL8NV",
        "outputId": "724417fd-1c85-4d00-be73-2830228ae88b"
      },
      "outputs": [
        {
          "data": {
            "text/html": [
              "<div>\n",
              "<style scoped>\n",
              "    .dataframe tbody tr th:only-of-type {\n",
              "        vertical-align: middle;\n",
              "    }\n",
              "\n",
              "    .dataframe tbody tr th {\n",
              "        vertical-align: top;\n",
              "    }\n",
              "\n",
              "    .dataframe thead th {\n",
              "        text-align: right;\n",
              "    }\n",
              "</style>\n",
              "<table border=\"1\" class=\"dataframe\">\n",
              "  <thead>\n",
              "    <tr style=\"text-align: right;\">\n",
              "      <th></th>\n",
              "      <th>Unnamed: 0</th>\n",
              "    </tr>\n",
              "  </thead>\n",
              "  <tbody>\n",
              "    <tr>\n",
              "      <th>count</th>\n",
              "      <td>2981.000000</td>\n",
              "    </tr>\n",
              "    <tr>\n",
              "      <th>mean</th>\n",
              "      <td>746.870178</td>\n",
              "    </tr>\n",
              "    <tr>\n",
              "      <th>std</th>\n",
              "      <td>433.994529</td>\n",
              "    </tr>\n",
              "    <tr>\n",
              "      <th>min</th>\n",
              "      <td>0.000000</td>\n",
              "    </tr>\n",
              "    <tr>\n",
              "      <th>25%</th>\n",
              "      <td>372.000000</td>\n",
              "    </tr>\n",
              "    <tr>\n",
              "      <th>50%</th>\n",
              "      <td>745.000000</td>\n",
              "    </tr>\n",
              "    <tr>\n",
              "      <th>75%</th>\n",
              "      <td>1117.000000</td>\n",
              "    </tr>\n",
              "    <tr>\n",
              "      <th>max</th>\n",
              "      <td>1569.000000</td>\n",
              "    </tr>\n",
              "  </tbody>\n",
              "</table>\n",
              "</div>"
            ],
            "text/plain": [
              "        Unnamed: 0\n",
              "count  2981.000000\n",
              "mean    746.870178\n",
              "std     433.994529\n",
              "min       0.000000\n",
              "25%     372.000000\n",
              "50%     745.000000\n",
              "75%    1117.000000\n",
              "max    1569.000000"
            ]
          },
          "execution_count": 5,
          "metadata": {},
          "output_type": "execute_result"
        }
      ],
      "source": [
        "data = pd.read_csv('tweet_3.csv')\n",
        "data.head()\n",
        "data.describe()"
      ]
    },
    {
      "attachments": {},
      "cell_type": "markdown",
      "metadata": {},
      "source": [
        "Menghilangkan Duplicate"
      ]
    },
    {
      "cell_type": "code",
      "execution_count": 6,
      "metadata": {
        "colab": {
          "base_uri": "https://localhost:8080/",
          "height": 175
        },
        "id": "GNP2_TpBcvGy",
        "outputId": "c7dac16f-9d52-46b7-e34a-b245a8bc7ca8"
      },
      "outputs": [
        {
          "data": {
            "text/html": [
              "<div>\n",
              "<style scoped>\n",
              "    .dataframe tbody tr th:only-of-type {\n",
              "        vertical-align: middle;\n",
              "    }\n",
              "\n",
              "    .dataframe tbody tr th {\n",
              "        vertical-align: top;\n",
              "    }\n",
              "\n",
              "    .dataframe thead th {\n",
              "        text-align: right;\n",
              "    }\n",
              "</style>\n",
              "<table border=\"1\" class=\"dataframe\">\n",
              "  <thead>\n",
              "    <tr style=\"text-align: right;\">\n",
              "      <th></th>\n",
              "      <th>Unnamed: 0</th>\n",
              "    </tr>\n",
              "  </thead>\n",
              "  <tbody>\n",
              "    <tr>\n",
              "      <th>count</th>\n",
              "      <td>2799.000000</td>\n",
              "    </tr>\n",
              "    <tr>\n",
              "      <th>mean</th>\n",
              "      <td>741.307610</td>\n",
              "    </tr>\n",
              "    <tr>\n",
              "      <th>std</th>\n",
              "      <td>429.907389</td>\n",
              "    </tr>\n",
              "    <tr>\n",
              "      <th>min</th>\n",
              "      <td>0.000000</td>\n",
              "    </tr>\n",
              "    <tr>\n",
              "      <th>25%</th>\n",
              "      <td>373.500000</td>\n",
              "    </tr>\n",
              "    <tr>\n",
              "      <th>50%</th>\n",
              "      <td>736.000000</td>\n",
              "    </tr>\n",
              "    <tr>\n",
              "      <th>75%</th>\n",
              "      <td>1103.000000</td>\n",
              "    </tr>\n",
              "    <tr>\n",
              "      <th>max</th>\n",
              "      <td>1569.000000</td>\n",
              "    </tr>\n",
              "  </tbody>\n",
              "</table>\n",
              "</div>"
            ],
            "text/plain": [
              "        Unnamed: 0\n",
              "count  2799.000000\n",
              "mean    741.307610\n",
              "std     429.907389\n",
              "min       0.000000\n",
              "25%     373.500000\n",
              "50%     736.000000\n",
              "75%    1103.000000\n",
              "max    1569.000000"
            ]
          },
          "execution_count": 6,
          "metadata": {},
          "output_type": "execute_result"
        }
      ],
      "source": [
        "new_data = data.drop_duplicates('Tweet',keep='first') \n",
        "new_data.describe()\n",
        "#delete the duplicates by dropping them and store the result value to a new variable"
      ]
    },
    {
      "cell_type": "code",
      "execution_count": 7,
      "metadata": {
        "colab": {
          "base_uri": "https://localhost:8080/"
        },
        "id": "uXTc_HTBdk6K",
        "outputId": "8cc95f87-d36a-40fc-b45c-551a4d383fee"
      },
      "outputs": [
        {
          "data": {
            "text/plain": [
              "0       Kekerasan | sexual consent | Muslimah news\\nFa...\n",
              "1       Menteri PPPA, Bintang Puspayoga mengutuk keras...\n",
              "2       Ratusan mahasiswa berunjuk rasa di depan Gedun...\n",
              "3       Pihak kepolisian belum bisa memproses hukum do...\n",
              "4       Pihak kepolisian belum bisa memproses hukum do...\n",
              "                              ...                        \n",
              "2794    3 Ahli Psikolog Diskusi Kekerasan Seksual Anak...\n",
              "2795    3 Ahli Psikolog Diskusi Kekerasan Seksual Anak...\n",
              "2796    Seminar kekerasan seksual 'WHEN I FOUND… (w/ R...\n",
              "2797    seminar kekerasan seksual 'when i found them'…...\n",
              "2798    Seminar kekerasan seksual… (w/ Putranti, Safir...\n",
              "Name: Tweet, Length: 2799, dtype: object"
            ]
          },
          "execution_count": 7,
          "metadata": {},
          "output_type": "execute_result"
        }
      ],
      "source": [
        "#new_sample = dataframe baru yang telah dihilangkan duplikasinya\n",
        "new_data.to_csv('tweet_3_cleaned.csv', index = False)\n",
        "new_sample = pd.read_csv('tweet_3_cleaned.csv')\n",
        "tweets = new_sample['Tweet']\n",
        "tweets"
      ]
    },
    {
      "cell_type": "code",
      "execution_count": 8,
      "metadata": {
        "colab": {
          "base_uri": "https://localhost:8080/",
          "height": 1084
        },
        "id": "cgK99H5-pASm",
        "outputId": "0defc1b6-2d67-45a3-90b7-749fd98ccb36"
      },
      "outputs": [
        {
          "name": "stderr",
          "output_type": "stream",
          "text": [
            "C:\\Users\\Lenovo\\AppData\\Local\\Temp\\ipykernel_16440\\922256365.py:2: SettingWithCopyWarning: \n",
            "A value is trying to be set on a copy of a slice from a DataFrame\n",
            "\n",
            "See the caveats in the documentation: https://pandas.pydata.org/pandas-docs/stable/user_guide/indexing.html#returning-a-view-versus-a-copy\n",
            "  tweets[i] = re.sub(r'(@[A-Za-z0–9_]+)|[^\\w\\s]|#|http\\S+', ' ',str(tweets[i]))\n"
          ]
        }
      ],
      "source": [
        "for i in range (len(tweets)):\n",
        "  tweets[i] = re.sub(r'(@[A-Za-z0–9_]+)|[^\\w\\s]|#|http\\S+', ' ',str(tweets[i]))\n"
      ]
    },
    {
      "attachments": {},
      "cell_type": "markdown",
      "metadata": {},
      "source": [
        "Memisahkan Kolom Tahun pada data"
      ]
    },
    {
      "cell_type": "code",
      "execution_count": 9,
      "metadata": {},
      "outputs": [
        {
          "name": "stderr",
          "output_type": "stream",
          "text": [
            "C:\\Users\\Lenovo\\AppData\\Local\\Temp\\ipykernel_16440\\1873580263.py:8: SettingWithCopyWarning: \n",
            "A value is trying to be set on a copy of a slice from a DataFrame\n",
            "\n",
            "See the caveats in the documentation: https://pandas.pydata.org/pandas-docs/stable/user_guide/indexing.html#returning-a-view-versus-a-copy\n",
            "  year[i] = str(year[i])\n",
            "C:\\Users\\Lenovo\\AppData\\Local\\Temp\\ipykernel_16440\\1873580263.py:9: SettingWithCopyWarning: \n",
            "A value is trying to be set on a copy of a slice from a DataFrame\n",
            "\n",
            "See the caveats in the documentation: https://pandas.pydata.org/pandas-docs/stable/user_guide/indexing.html#returning-a-view-versus-a-copy\n",
            "  year[i] = getYear(year[i])\n"
          ]
        }
      ],
      "source": [
        "for i in range (len(tweets)):\n",
        "    df5 = pd.read_csv('tweet_3_cleaned.csv')\n",
        "    year = df5['Date']\n",
        "def getYear(s):\n",
        "    return s.split(\"-\")[0]\n",
        "  \n",
        "for i in range (len(year)):\n",
        "  year[i] = str(year[i])\n",
        "  year[i] = getYear(year[i])\n"
      ]
    },
    {
      "cell_type": "code",
      "execution_count": 10,
      "metadata": {},
      "outputs": [],
      "source": [
        "dfread = df5"
      ]
    },
    {
      "cell_type": "code",
      "execution_count": 11,
      "metadata": {},
      "outputs": [
        {
          "data": {
            "text/html": [
              "<div>\n",
              "<style scoped>\n",
              "    .dataframe tbody tr th:only-of-type {\n",
              "        vertical-align: middle;\n",
              "    }\n",
              "\n",
              "    .dataframe tbody tr th {\n",
              "        vertical-align: top;\n",
              "    }\n",
              "\n",
              "    .dataframe thead th {\n",
              "        text-align: right;\n",
              "    }\n",
              "</style>\n",
              "<table border=\"1\" class=\"dataframe\">\n",
              "  <thead>\n",
              "    <tr style=\"text-align: right;\">\n",
              "      <th></th>\n",
              "      <th>Unnamed: 0</th>\n",
              "      <th>Date</th>\n",
              "      <th>User</th>\n",
              "      <th>Tweet</th>\n",
              "    </tr>\n",
              "  </thead>\n",
              "  <tbody>\n",
              "    <tr>\n",
              "      <th>0</th>\n",
              "      <td>0</td>\n",
              "      <td>2022</td>\n",
              "      <td>UMufris</td>\n",
              "      <td>Kekerasan | sexual consent | Muslimah news\\nFa...</td>\n",
              "    </tr>\n",
              "    <tr>\n",
              "      <th>1</th>\n",
              "      <td>1</td>\n",
              "      <td>2022</td>\n",
              "      <td>suaradotcom</td>\n",
              "      <td>Menteri PPPA, Bintang Puspayoga mengutuk keras...</td>\n",
              "    </tr>\n",
              "    <tr>\n",
              "      <th>2</th>\n",
              "      <td>2</td>\n",
              "      <td>2022</td>\n",
              "      <td>Metro_TV</td>\n",
              "      <td>Ratusan mahasiswa berunjuk rasa di depan Gedun...</td>\n",
              "    </tr>\n",
              "    <tr>\n",
              "      <th>3</th>\n",
              "      <td>3</td>\n",
              "      <td>2022</td>\n",
              "      <td>AuisGrand</td>\n",
              "      <td>Pihak kepolisian belum bisa memproses hukum do...</td>\n",
              "    </tr>\n",
              "    <tr>\n",
              "      <th>4</th>\n",
              "      <td>4</td>\n",
              "      <td>2022</td>\n",
              "      <td>KompasKlasika</td>\n",
              "      <td>Pihak kepolisian belum bisa memproses hukum do...</td>\n",
              "    </tr>\n",
              "    <tr>\n",
              "      <th>...</th>\n",
              "      <td>...</td>\n",
              "      <td>...</td>\n",
              "      <td>...</td>\n",
              "      <td>...</td>\n",
              "    </tr>\n",
              "    <tr>\n",
              "      <th>2794</th>\n",
              "      <td>1565</td>\n",
              "      <td>2015</td>\n",
              "      <td>Onai_Oxygen</td>\n",
              "      <td>3 Ahli Psikolog Diskusi Kekerasan Seksual Anak...</td>\n",
              "    </tr>\n",
              "    <tr>\n",
              "      <th>2795</th>\n",
              "      <td>1566</td>\n",
              "      <td>2015</td>\n",
              "      <td>KoyanBtm</td>\n",
              "      <td>3 Ahli Psikolog Diskusi Kekerasan Seksual Anak...</td>\n",
              "    </tr>\n",
              "    <tr>\n",
              "      <th>2796</th>\n",
              "      <td>1567</td>\n",
              "      <td>2015</td>\n",
              "      <td>bellaganora</td>\n",
              "      <td>Seminar kekerasan seksual 'WHEN I FOUND… (w/ R...</td>\n",
              "    </tr>\n",
              "    <tr>\n",
              "      <th>2797</th>\n",
              "      <td>1568</td>\n",
              "      <td>2015</td>\n",
              "      <td>alipiong</td>\n",
              "      <td>seminar kekerasan seksual 'when i found them'…...</td>\n",
              "    </tr>\n",
              "    <tr>\n",
              "      <th>2798</th>\n",
              "      <td>1569</td>\n",
              "      <td>2015</td>\n",
              "      <td>arizkywdy</td>\n",
              "      <td>Seminar kekerasan seksual… (w/ Putranti, Safir...</td>\n",
              "    </tr>\n",
              "  </tbody>\n",
              "</table>\n",
              "<p>2799 rows × 4 columns</p>\n",
              "</div>"
            ],
            "text/plain": [
              "      Unnamed: 0  Date           User  \\\n",
              "0              0  2022        UMufris   \n",
              "1              1  2022    suaradotcom   \n",
              "2              2  2022       Metro_TV   \n",
              "3              3  2022      AuisGrand   \n",
              "4              4  2022  KompasKlasika   \n",
              "...          ...   ...            ...   \n",
              "2794        1565  2015    Onai_Oxygen   \n",
              "2795        1566  2015       KoyanBtm   \n",
              "2796        1567  2015    bellaganora   \n",
              "2797        1568  2015       alipiong   \n",
              "2798        1569  2015      arizkywdy   \n",
              "\n",
              "                                                  Tweet  \n",
              "0     Kekerasan | sexual consent | Muslimah news\\nFa...  \n",
              "1     Menteri PPPA, Bintang Puspayoga mengutuk keras...  \n",
              "2     Ratusan mahasiswa berunjuk rasa di depan Gedun...  \n",
              "3     Pihak kepolisian belum bisa memproses hukum do...  \n",
              "4     Pihak kepolisian belum bisa memproses hukum do...  \n",
              "...                                                 ...  \n",
              "2794  3 Ahli Psikolog Diskusi Kekerasan Seksual Anak...  \n",
              "2795  3 Ahli Psikolog Diskusi Kekerasan Seksual Anak...  \n",
              "2796  Seminar kekerasan seksual 'WHEN I FOUND… (w/ R...  \n",
              "2797  seminar kekerasan seksual 'when i found them'…...  \n",
              "2798  Seminar kekerasan seksual… (w/ Putranti, Safir...  \n",
              "\n",
              "[2799 rows x 4 columns]"
            ]
          },
          "execution_count": 11,
          "metadata": {},
          "output_type": "execute_result"
        }
      ],
      "source": [
        "dfread"
      ]
    },
    {
      "cell_type": "code",
      "execution_count": 12,
      "metadata": {},
      "outputs": [
        {
          "data": {
            "image/png": "[encoded data removed]",
            "text/plain": [
              "<Figure size 640x480 with 1 Axes>"
            ]
          },
          "metadata": {},
          "output_type": "display_data"
        }
      ],
      "source": [
        "data_tahun = dfread.groupby(by=\"Date\").count()\n",
        "data_tahun\n",
        "\n",
        "x = list(data_tahun.index)\n",
        "y = list(data_tahun['Unnamed: 0'].values)\n",
        "\n",
        "\n",
        "plt.style.use('ggplot')\n",
        "plt.title('Tahun Tweet di Post Oleh Pengguna')\n",
        "plt.xlabel('Tahun')\n",
        "plt.ylabel('Jumlah')\n",
        "plt.bar(x,y)\n",
        "plt.show()"
      ]
    },
    {
      "cell_type": "code",
      "execution_count": 13,
      "metadata": {},
      "outputs": [
        {
          "data": {
            "text/html": [
              "<div>\n",
              "<style scoped>\n",
              "    .dataframe tbody tr th:only-of-type {\n",
              "        vertical-align: middle;\n",
              "    }\n",
              "\n",
              "    .dataframe tbody tr th {\n",
              "        vertical-align: top;\n",
              "    }\n",
              "\n",
              "    .dataframe thead th {\n",
              "        text-align: right;\n",
              "    }\n",
              "</style>\n",
              "<table border=\"1\" class=\"dataframe\">\n",
              "  <thead>\n",
              "    <tr style=\"text-align: right;\">\n",
              "      <th></th>\n",
              "      <th>Unnamed: 0</th>\n",
              "      <th>Date</th>\n",
              "      <th>User</th>\n",
              "      <th>Tweet</th>\n",
              "    </tr>\n",
              "  </thead>\n",
              "  <tbody>\n",
              "    <tr>\n",
              "      <th>0</th>\n",
              "      <td>0</td>\n",
              "      <td>2022</td>\n",
              "      <td>UMufris</td>\n",
              "      <td>Kekerasan | sexual consent | Muslimah news\\nFa...</td>\n",
              "    </tr>\n",
              "    <tr>\n",
              "      <th>1</th>\n",
              "      <td>1</td>\n",
              "      <td>2022</td>\n",
              "      <td>suaradotcom</td>\n",
              "      <td>Menteri PPPA, Bintang Puspayoga mengutuk keras...</td>\n",
              "    </tr>\n",
              "    <tr>\n",
              "      <th>2</th>\n",
              "      <td>2</td>\n",
              "      <td>2022</td>\n",
              "      <td>Metro_TV</td>\n",
              "      <td>Ratusan mahasiswa berunjuk rasa di depan Gedun...</td>\n",
              "    </tr>\n",
              "    <tr>\n",
              "      <th>3</th>\n",
              "      <td>3</td>\n",
              "      <td>2022</td>\n",
              "      <td>AuisGrand</td>\n",
              "      <td>Pihak kepolisian belum bisa memproses hukum do...</td>\n",
              "    </tr>\n",
              "    <tr>\n",
              "      <th>4</th>\n",
              "      <td>4</td>\n",
              "      <td>2022</td>\n",
              "      <td>KompasKlasika</td>\n",
              "      <td>Pihak kepolisian belum bisa memproses hukum do...</td>\n",
              "    </tr>\n",
              "    <tr>\n",
              "      <th>...</th>\n",
              "      <td>...</td>\n",
              "      <td>...</td>\n",
              "      <td>...</td>\n",
              "      <td>...</td>\n",
              "    </tr>\n",
              "    <tr>\n",
              "      <th>2794</th>\n",
              "      <td>1565</td>\n",
              "      <td>2015</td>\n",
              "      <td>Onai_Oxygen</td>\n",
              "      <td>3 Ahli Psikolog Diskusi Kekerasan Seksual Anak...</td>\n",
              "    </tr>\n",
              "    <tr>\n",
              "      <th>2795</th>\n",
              "      <td>1566</td>\n",
              "      <td>2015</td>\n",
              "      <td>KoyanBtm</td>\n",
              "      <td>3 Ahli Psikolog Diskusi Kekerasan Seksual Anak...</td>\n",
              "    </tr>\n",
              "    <tr>\n",
              "      <th>2796</th>\n",
              "      <td>1567</td>\n",
              "      <td>2015</td>\n",
              "      <td>bellaganora</td>\n",
              "      <td>Seminar kekerasan seksual 'WHEN I FOUND… (w/ R...</td>\n",
              "    </tr>\n",
              "    <tr>\n",
              "      <th>2797</th>\n",
              "      <td>1568</td>\n",
              "      <td>2015</td>\n",
              "      <td>alipiong</td>\n",
              "      <td>seminar kekerasan seksual 'when i found them'…...</td>\n",
              "    </tr>\n",
              "    <tr>\n",
              "      <th>2798</th>\n",
              "      <td>1569</td>\n",
              "      <td>2015</td>\n",
              "      <td>arizkywdy</td>\n",
              "      <td>Seminar kekerasan seksual… (w/ Putranti, Safir...</td>\n",
              "    </tr>\n",
              "  </tbody>\n",
              "</table>\n",
              "<p>2799 rows × 4 columns</p>\n",
              "</div>"
            ],
            "text/plain": [
              "      Unnamed: 0  Date           User  \\\n",
              "0              0  2022        UMufris   \n",
              "1              1  2022    suaradotcom   \n",
              "2              2  2022       Metro_TV   \n",
              "3              3  2022      AuisGrand   \n",
              "4              4  2022  KompasKlasika   \n",
              "...          ...   ...            ...   \n",
              "2794        1565  2015    Onai_Oxygen   \n",
              "2795        1566  2015       KoyanBtm   \n",
              "2796        1567  2015    bellaganora   \n",
              "2797        1568  2015       alipiong   \n",
              "2798        1569  2015      arizkywdy   \n",
              "\n",
              "                                                  Tweet  \n",
              "0     Kekerasan | sexual consent | Muslimah news\\nFa...  \n",
              "1     Menteri PPPA, Bintang Puspayoga mengutuk keras...  \n",
              "2     Ratusan mahasiswa berunjuk rasa di depan Gedun...  \n",
              "3     Pihak kepolisian belum bisa memproses hukum do...  \n",
              "4     Pihak kepolisian belum bisa memproses hukum do...  \n",
              "...                                                 ...  \n",
              "2794  3 Ahli Psikolog Diskusi Kekerasan Seksual Anak...  \n",
              "2795  3 Ahli Psikolog Diskusi Kekerasan Seksual Anak...  \n",
              "2796  Seminar kekerasan seksual 'WHEN I FOUND… (w/ R...  \n",
              "2797  seminar kekerasan seksual 'when i found them'…...  \n",
              "2798  Seminar kekerasan seksual… (w/ Putranti, Safir...  \n",
              "\n",
              "[2799 rows x 4 columns]"
            ]
          },
          "execution_count": 13,
          "metadata": {},
          "output_type": "execute_result"
        }
      ],
      "source": [
        "dfread"
      ]
    },
    {
      "cell_type": "code",
      "execution_count": 14,
      "metadata": {},
      "outputs": [
        {
          "data": {
            "text/plain": [
              "Unnamed: 0    16\n",
              "Date          16\n",
              "User          16\n",
              "Tweet         16\n",
              "Bool          16\n",
              "dtype: int64"
            ]
          },
          "execution_count": 14,
          "metadata": {},
          "output_type": "execute_result"
        }
      ],
      "source": [
        "searchfor = ['laki','Laki','Laki-laki','pria','Pria']\n",
        "dfread[\"Bool\"] = dfread['Tweet'].apply(lambda x: 1 if any(i in x for i in searchfor) else 0)\n",
        "df_men = dfread.loc[dfread['Bool'] == 1]\n",
        "df_men.count()"
      ]
    },
    {
      "cell_type": "code",
      "execution_count": 15,
      "metadata": {},
      "outputs": [
        {
          "data": {
            "text/plain": [
              "Unnamed: 0    123\n",
              "Date          123\n",
              "User          123\n",
              "Tweet         123\n",
              "Bool          123\n",
              "dtype: int64"
            ]
          },
          "execution_count": 15,
          "metadata": {},
          "output_type": "execute_result"
        }
      ],
      "source": [
        "searchfor = ['wanita','Wanita','perempuan','Perempuan','gadis']\n",
        "dfread[\"Bool\"] = dfread['Tweet'].apply(lambda x: 1 if any(i in x for i in searchfor) else 0)\n",
        "df_women = dfread.loc[dfread['Bool'] == 1]\n",
        "df_women.count()"
      ]
    },
    {
      "cell_type": "code",
      "execution_count": 16,
      "metadata": {},
      "outputs": [
        {
          "data": {
            "image/png": "[encoded data removed]",
            "text/plain": [
              "<Figure size 640x480 with 1 Axes>"
            ]
          },
          "metadata": {},
          "output_type": "display_data"
        }
      ],
      "source": [
        "plt.title('Jumlah Penggunaan Keyword Jenis Gender Pada Kasus Seksual di Universitas')\n",
        "plt.pie(\n",
        "    [df_men.shape[0], df_women.shape[0]],\n",
        "    labels=['Laki-Laki','Perempuan'],\n",
        "    autopct='%1.1f%%',\n",
        "    startangle=90\n",
        "    )\n",
        "plt.axis('equal')\n",
        "plt.grid(True) # garis background untuk mempermudah pembacaan\n",
        "plt.show()"
      ]
    },
    {
      "cell_type": "code",
      "execution_count": 17,
      "metadata": {},
      "outputs": [
        {
          "data": {
            "text/html": [
              "<div>\n",
              "<style scoped>\n",
              "    .dataframe tbody tr th:only-of-type {\n",
              "        vertical-align: middle;\n",
              "    }\n",
              "\n",
              "    .dataframe tbody tr th {\n",
              "        vertical-align: top;\n",
              "    }\n",
              "\n",
              "    .dataframe thead th {\n",
              "        text-align: right;\n",
              "    }\n",
              "</style>\n",
              "<table border=\"1\" class=\"dataframe\">\n",
              "  <thead>\n",
              "    <tr style=\"text-align: right;\">\n",
              "      <th></th>\n",
              "      <th>Unnamed: 0</th>\n",
              "      <th>Date</th>\n",
              "      <th>User</th>\n",
              "      <th>Tweet</th>\n",
              "      <th>Bool</th>\n",
              "    </tr>\n",
              "  </thead>\n",
              "  <tbody>\n",
              "    <tr>\n",
              "      <th>0</th>\n",
              "      <td>0</td>\n",
              "      <td>2022</td>\n",
              "      <td>UMufris</td>\n",
              "      <td>Kekerasan | sexual consent | Muslimah news\\nFa...</td>\n",
              "      <td>0</td>\n",
              "    </tr>\n",
              "    <tr>\n",
              "      <th>1</th>\n",
              "      <td>1</td>\n",
              "      <td>2022</td>\n",
              "      <td>suaradotcom</td>\n",
              "      <td>Menteri PPPA, Bintang Puspayoga mengutuk keras...</td>\n",
              "      <td>0</td>\n",
              "    </tr>\n",
              "    <tr>\n",
              "      <th>2</th>\n",
              "      <td>2</td>\n",
              "      <td>2022</td>\n",
              "      <td>Metro_TV</td>\n",
              "      <td>Ratusan mahasiswa berunjuk rasa di depan Gedun...</td>\n",
              "      <td>0</td>\n",
              "    </tr>\n",
              "    <tr>\n",
              "      <th>3</th>\n",
              "      <td>3</td>\n",
              "      <td>2022</td>\n",
              "      <td>AuisGrand</td>\n",
              "      <td>Pihak kepolisian belum bisa memproses hukum do...</td>\n",
              "      <td>0</td>\n",
              "    </tr>\n",
              "    <tr>\n",
              "      <th>4</th>\n",
              "      <td>4</td>\n",
              "      <td>2022</td>\n",
              "      <td>KompasKlasika</td>\n",
              "      <td>Pihak kepolisian belum bisa memproses hukum do...</td>\n",
              "      <td>0</td>\n",
              "    </tr>\n",
              "    <tr>\n",
              "      <th>...</th>\n",
              "      <td>...</td>\n",
              "      <td>...</td>\n",
              "      <td>...</td>\n",
              "      <td>...</td>\n",
              "      <td>...</td>\n",
              "    </tr>\n",
              "    <tr>\n",
              "      <th>2794</th>\n",
              "      <td>1565</td>\n",
              "      <td>2015</td>\n",
              "      <td>Onai_Oxygen</td>\n",
              "      <td>3 Ahli Psikolog Diskusi Kekerasan Seksual Anak...</td>\n",
              "      <td>0</td>\n",
              "    </tr>\n",
              "    <tr>\n",
              "      <th>2795</th>\n",
              "      <td>1566</td>\n",
              "      <td>2015</td>\n",
              "      <td>KoyanBtm</td>\n",
              "      <td>3 Ahli Psikolog Diskusi Kekerasan Seksual Anak...</td>\n",
              "      <td>0</td>\n",
              "    </tr>\n",
              "    <tr>\n",
              "      <th>2796</th>\n",
              "      <td>1567</td>\n",
              "      <td>2015</td>\n",
              "      <td>bellaganora</td>\n",
              "      <td>Seminar kekerasan seksual 'WHEN I FOUND… (w/ R...</td>\n",
              "      <td>0</td>\n",
              "    </tr>\n",
              "    <tr>\n",
              "      <th>2797</th>\n",
              "      <td>1568</td>\n",
              "      <td>2015</td>\n",
              "      <td>alipiong</td>\n",
              "      <td>seminar kekerasan seksual 'when i found them'…...</td>\n",
              "      <td>0</td>\n",
              "    </tr>\n",
              "    <tr>\n",
              "      <th>2798</th>\n",
              "      <td>1569</td>\n",
              "      <td>2015</td>\n",
              "      <td>arizkywdy</td>\n",
              "      <td>Seminar kekerasan seksual… (w/ Putranti, Safir...</td>\n",
              "      <td>0</td>\n",
              "    </tr>\n",
              "  </tbody>\n",
              "</table>\n",
              "<p>2799 rows × 5 columns</p>\n",
              "</div>"
            ],
            "text/plain": [
              "      Unnamed: 0  Date           User  \\\n",
              "0              0  2022        UMufris   \n",
              "1              1  2022    suaradotcom   \n",
              "2              2  2022       Metro_TV   \n",
              "3              3  2022      AuisGrand   \n",
              "4              4  2022  KompasKlasika   \n",
              "...          ...   ...            ...   \n",
              "2794        1565  2015    Onai_Oxygen   \n",
              "2795        1566  2015       KoyanBtm   \n",
              "2796        1567  2015    bellaganora   \n",
              "2797        1568  2015       alipiong   \n",
              "2798        1569  2015      arizkywdy   \n",
              "\n",
              "                                                  Tweet  Bool  \n",
              "0     Kekerasan | sexual consent | Muslimah news\\nFa...     0  \n",
              "1     Menteri PPPA, Bintang Puspayoga mengutuk keras...     0  \n",
              "2     Ratusan mahasiswa berunjuk rasa di depan Gedun...     0  \n",
              "3     Pihak kepolisian belum bisa memproses hukum do...     0  \n",
              "4     Pihak kepolisian belum bisa memproses hukum do...     0  \n",
              "...                                                 ...   ...  \n",
              "2794  3 Ahli Psikolog Diskusi Kekerasan Seksual Anak...     0  \n",
              "2795  3 Ahli Psikolog Diskusi Kekerasan Seksual Anak...     0  \n",
              "2796  Seminar kekerasan seksual 'WHEN I FOUND… (w/ R...     0  \n",
              "2797  seminar kekerasan seksual 'when i found them'…...     0  \n",
              "2798  Seminar kekerasan seksual… (w/ Putranti, Safir...     0  \n",
              "\n",
              "[2799 rows x 5 columns]"
            ]
          },
          "execution_count": 17,
          "metadata": {},
          "output_type": "execute_result"
        }
      ],
      "source": [
        "dfread"
      ]
    },
    {
      "cell_type": "code",
      "execution_count": 18,
      "metadata": {},
      "outputs": [
        {
          "name": "stderr",
          "output_type": "stream",
          "text": [
            "C:\\Users\\Lenovo\\AppData\\Local\\Temp\\ipykernel_16440\\1465969713.py:5: SettingWithCopyWarning: \n",
            "A value is trying to be set on a copy of a slice from a DataFrame.\n",
            "Try using .loc[row_indexer,col_indexer] = value instead\n",
            "\n",
            "See the caveats in the documentation: https://pandas.pydata.org/pandas-docs/stable/user_guide/indexing.html#returning-a-view-versus-a-copy\n",
            "  df_uns['total'] = df_uns['Tweet'].count()\n",
            "C:\\Users\\Lenovo\\AppData\\Local\\Temp\\ipykernel_16440\\1465969713.py:7: SettingWithCopyWarning: \n",
            "A value is trying to be set on a copy of a slice from a DataFrame\n",
            "\n",
            "See the caveats in the documentation: https://pandas.pydata.org/pandas-docs/stable/user_guide/indexing.html#returning-a-view-versus-a-copy\n",
            "  df_uns.drop('Date', axis=1, inplace=True)\n",
            "C:\\Users\\Lenovo\\AppData\\Local\\Temp\\ipykernel_16440\\1465969713.py:8: SettingWithCopyWarning: \n",
            "A value is trying to be set on a copy of a slice from a DataFrame\n",
            "\n",
            "See the caveats in the documentation: https://pandas.pydata.org/pandas-docs/stable/user_guide/indexing.html#returning-a-view-versus-a-copy\n",
            "  df_uns.drop('User', axis=1, inplace=True)\n",
            "C:\\Users\\Lenovo\\AppData\\Local\\Temp\\ipykernel_16440\\1465969713.py:9: SettingWithCopyWarning: \n",
            "A value is trying to be set on a copy of a slice from a DataFrame\n",
            "\n",
            "See the caveats in the documentation: https://pandas.pydata.org/pandas-docs/stable/user_guide/indexing.html#returning-a-view-versus-a-copy\n",
            "  df_uns.drop('Tweet', axis=1, inplace=True)\n",
            "C:\\Users\\Lenovo\\AppData\\Local\\Temp\\ipykernel_16440\\1465969713.py:10: SettingWithCopyWarning: \n",
            "A value is trying to be set on a copy of a slice from a DataFrame\n",
            "\n",
            "See the caveats in the documentation: https://pandas.pydata.org/pandas-docs/stable/user_guide/indexing.html#returning-a-view-versus-a-copy\n",
            "  df_uns.drop('Unnamed: 0', axis=1, inplace=True)\n",
            "C:\\Users\\Lenovo\\AppData\\Local\\Temp\\ipykernel_16440\\1465969713.py:12: SettingWithCopyWarning: \n",
            "A value is trying to be set on a copy of a slice from a DataFrame\n",
            "\n",
            "See the caveats in the documentation: https://pandas.pydata.org/pandas-docs/stable/user_guide/indexing.html#returning-a-view-versus-a-copy\n",
            "  df_uns.drop('Bool', axis=1, inplace=True)\n"
          ]
        }
      ],
      "source": [
        "searchfor =['Universitas Negeri Semarang','negeri semarang']\n",
        "dfread[\"label\"] = dfread['Tweet'].apply(lambda x: 'UNS' if any(i in x for i in searchfor) else 0)\n",
        "df_uns = dfread.loc[dfread['label'] == 'UNS']\n",
        "\n",
        "df_uns['total'] = df_uns['Tweet'].count()\n",
        "\n",
        "df_uns.drop('Date', axis=1, inplace=True)\n",
        "df_uns.drop('User', axis=1, inplace=True)\n",
        "df_uns.drop('Tweet', axis=1, inplace=True)\n",
        "df_uns.drop('Unnamed: 0', axis=1, inplace=True)\n",
        "# df_uns.drop('Unnamed: 0.1', axis=1, inplace=True)\n",
        "df_uns.drop('Bool', axis=1, inplace=True)\n",
        "df_uns = df_uns.drop_duplicates()\n",
        "\n"
      ]
    },
    {
      "cell_type": "code",
      "execution_count": 18,
      "metadata": {},
      "outputs": [
        {
          "data": {
            "text/html": [
              "<div>\n",
              "<style scoped>\n",
              "    .dataframe tbody tr th:only-of-type {\n",
              "        vertical-align: middle;\n",
              "    }\n",
              "\n",
              "    .dataframe tbody tr th {\n",
              "        vertical-align: top;\n",
              "    }\n",
              "\n",
              "    .dataframe thead th {\n",
              "        text-align: right;\n",
              "    }\n",
              "</style>\n",
              "<table border=\"1\" class=\"dataframe\">\n",
              "  <thead>\n",
              "    <tr style=\"text-align: right;\">\n",
              "      <th></th>\n",
              "      <th>label</th>\n",
              "      <th>total</th>\n",
              "    </tr>\n",
              "  </thead>\n",
              "  <tbody>\n",
              "    <tr>\n",
              "      <th>365</th>\n",
              "      <td>UNS</td>\n",
              "      <td>216</td>\n",
              "    </tr>\n",
              "  </tbody>\n",
              "</table>\n",
              "</div>"
            ],
            "text/plain": [
              "    label  total\n",
              "365   UNS    216"
            ]
          },
          "execution_count": 18,
          "metadata": {},
          "output_type": "execute_result"
        }
      ],
      "source": [
        "df_uns"
      ]
    },
    {
      "cell_type": "code",
      "execution_count": 35,
      "metadata": {},
      "outputs": [
        {
          "name": "stderr",
          "output_type": "stream",
          "text": [
            "C:\\Users\\Lenovo\\AppData\\Local\\Temp\\ipykernel_15132\\2942077788.py:5: SettingWithCopyWarning: \n",
            "A value is trying to be set on a copy of a slice from a DataFrame.\n",
            "Try using .loc[row_indexer,col_indexer] = value instead\n",
            "\n",
            "See the caveats in the documentation: https://pandas.pydata.org/pandas-docs/stable/user_guide/indexing.html#returning-a-view-versus-a-copy\n",
            "  df_gundar['total'] = df_gundar['Tweet'].count()\n",
            "C:\\Users\\Lenovo\\AppData\\Local\\Temp\\ipykernel_15132\\2942077788.py:7: SettingWithCopyWarning: \n",
            "A value is trying to be set on a copy of a slice from a DataFrame\n",
            "\n",
            "See the caveats in the documentation: https://pandas.pydata.org/pandas-docs/stable/user_guide/indexing.html#returning-a-view-versus-a-copy\n",
            "  df_gundar.drop('Date', axis=1, inplace=True)\n",
            "C:\\Users\\Lenovo\\AppData\\Local\\Temp\\ipykernel_15132\\2942077788.py:8: SettingWithCopyWarning: \n",
            "A value is trying to be set on a copy of a slice from a DataFrame\n",
            "\n",
            "See the caveats in the documentation: https://pandas.pydata.org/pandas-docs/stable/user_guide/indexing.html#returning-a-view-versus-a-copy\n",
            "  df_gundar.drop('User', axis=1, inplace=True)\n",
            "C:\\Users\\Lenovo\\AppData\\Local\\Temp\\ipykernel_15132\\2942077788.py:9: SettingWithCopyWarning: \n",
            "A value is trying to be set on a copy of a slice from a DataFrame\n",
            "\n",
            "See the caveats in the documentation: https://pandas.pydata.org/pandas-docs/stable/user_guide/indexing.html#returning-a-view-versus-a-copy\n",
            "  df_gundar.drop('Tweet', axis=1, inplace=True)\n",
            "C:\\Users\\Lenovo\\AppData\\Local\\Temp\\ipykernel_15132\\2942077788.py:10: SettingWithCopyWarning: \n",
            "A value is trying to be set on a copy of a slice from a DataFrame\n",
            "\n",
            "See the caveats in the documentation: https://pandas.pydata.org/pandas-docs/stable/user_guide/indexing.html#returning-a-view-versus-a-copy\n",
            "  df_gundar.drop('Unnamed: 0', axis=1, inplace=True)\n",
            "C:\\Users\\Lenovo\\AppData\\Local\\Temp\\ipykernel_15132\\2942077788.py:12: SettingWithCopyWarning: \n",
            "A value is trying to be set on a copy of a slice from a DataFrame\n",
            "\n",
            "See the caveats in the documentation: https://pandas.pydata.org/pandas-docs/stable/user_guide/indexing.html#returning-a-view-versus-a-copy\n",
            "  df_gundar.drop('Bool', axis=1, inplace=True)\n"
          ]
        }
      ],
      "source": [
        "searchfor =['Universitas Gunadarma', 'gundar']\n",
        "dfread[\"label\"] = dfread['Tweet'].apply(lambda x: 'Gunadarma' if any(i in x for i in searchfor) else 0)\n",
        "df_gundar = dfread.loc[dfread['label'] == 'Gunadarma']\n",
        "\n",
        "df_gundar['total'] = df_gundar['Tweet'].count()\n",
        "\n",
        "df_gundar.drop('Date', axis=1, inplace=True)\n",
        "df_gundar.drop('User', axis=1, inplace=True)\n",
        "df_gundar.drop('Tweet', axis=1, inplace=True)\n",
        "df_gundar.drop('Unnamed: 0', axis=1, inplace=True)\n",
        "# df_gundar.drop('Unnamed: 0.1', axis=1, inplace=True)\n",
        "df_gundar.drop('Bool', axis=1, inplace=True)\n",
        "\n",
        "df_gundar = df_gundar.drop_duplicates()"
      ]
    },
    {
      "cell_type": "code",
      "execution_count": 36,
      "metadata": {},
      "outputs": [
        {
          "data": {
            "text/html": [
              "<div>\n",
              "<style scoped>\n",
              "    .dataframe tbody tr th:only-of-type {\n",
              "        vertical-align: middle;\n",
              "    }\n",
              "\n",
              "    .dataframe tbody tr th {\n",
              "        vertical-align: top;\n",
              "    }\n",
              "\n",
              "    .dataframe thead th {\n",
              "        text-align: right;\n",
              "    }\n",
              "</style>\n",
              "<table border=\"1\" class=\"dataframe\">\n",
              "  <thead>\n",
              "    <tr style=\"text-align: right;\">\n",
              "      <th></th>\n",
              "      <th>label</th>\n",
              "      <th>total</th>\n",
              "    </tr>\n",
              "  </thead>\n",
              "  <tbody>\n",
              "    <tr>\n",
              "      <th>37</th>\n",
              "      <td>Gunadarma</td>\n",
              "      <td>142</td>\n",
              "    </tr>\n",
              "  </tbody>\n",
              "</table>\n",
              "</div>"
            ],
            "text/plain": [
              "        label  total\n",
              "37  Gunadarma    142"
            ]
          },
          "execution_count": 36,
          "metadata": {},
          "output_type": "execute_result"
        }
      ],
      "source": [
        "df_gundar"
      ]
    },
    {
      "cell_type": "code",
      "execution_count": 20,
      "metadata": {},
      "outputs": [
        {
          "name": "stderr",
          "output_type": "stream",
          "text": [
            "C:\\Users\\Lenovo\\AppData\\Local\\Temp\\ipykernel_15132\\1905473794.py:6: SettingWithCopyWarning: \n",
            "A value is trying to be set on a copy of a slice from a DataFrame.\n",
            "Try using .loc[row_indexer,col_indexer] = value instead\n",
            "\n",
            "See the caveats in the documentation: https://pandas.pydata.org/pandas-docs/stable/user_guide/indexing.html#returning-a-view-versus-a-copy\n",
            "  df_andalas['total'] = df_andalas['Tweet'].count()\n",
            "C:\\Users\\Lenovo\\AppData\\Local\\Temp\\ipykernel_15132\\1905473794.py:8: SettingWithCopyWarning: \n",
            "A value is trying to be set on a copy of a slice from a DataFrame\n",
            "\n",
            "See the caveats in the documentation: https://pandas.pydata.org/pandas-docs/stable/user_guide/indexing.html#returning-a-view-versus-a-copy\n",
            "  df_andalas.drop('Date', axis=1, inplace=True)\n",
            "C:\\Users\\Lenovo\\AppData\\Local\\Temp\\ipykernel_15132\\1905473794.py:9: SettingWithCopyWarning: \n",
            "A value is trying to be set on a copy of a slice from a DataFrame\n",
            "\n",
            "See the caveats in the documentation: https://pandas.pydata.org/pandas-docs/stable/user_guide/indexing.html#returning-a-view-versus-a-copy\n",
            "  df_andalas.drop('User', axis=1, inplace=True)\n",
            "C:\\Users\\Lenovo\\AppData\\Local\\Temp\\ipykernel_15132\\1905473794.py:10: SettingWithCopyWarning: \n",
            "A value is trying to be set on a copy of a slice from a DataFrame\n",
            "\n",
            "See the caveats in the documentation: https://pandas.pydata.org/pandas-docs/stable/user_guide/indexing.html#returning-a-view-versus-a-copy\n",
            "  df_andalas.drop('Tweet', axis=1, inplace=True)\n",
            "C:\\Users\\Lenovo\\AppData\\Local\\Temp\\ipykernel_15132\\1905473794.py:11: SettingWithCopyWarning: \n",
            "A value is trying to be set on a copy of a slice from a DataFrame\n",
            "\n",
            "See the caveats in the documentation: https://pandas.pydata.org/pandas-docs/stable/user_guide/indexing.html#returning-a-view-versus-a-copy\n",
            "  df_andalas.drop('Unnamed: 0', axis=1, inplace=True)\n",
            "C:\\Users\\Lenovo\\AppData\\Local\\Temp\\ipykernel_15132\\1905473794.py:13: SettingWithCopyWarning: \n",
            "A value is trying to be set on a copy of a slice from a DataFrame\n",
            "\n",
            "See the caveats in the documentation: https://pandas.pydata.org/pandas-docs/stable/user_guide/indexing.html#returning-a-view-versus-a-copy\n",
            "  df_andalas.drop('Bool', axis=1, inplace=True)\n"
          ]
        }
      ],
      "source": [
        "searchfor =['Universitas Andalas', 'andalas']\n",
        "dfread[\"label\"] = dfread['Tweet'].apply(lambda x: 'Andalas' if any(i in x for i in searchfor) else 0)\n",
        "# df = df.drop(columns='Bool')\n",
        "df_andalas = dfread.loc[dfread['label'] == 'Andalas']\n",
        "\n",
        "df_andalas['total'] = df_andalas['Tweet'].count()\n",
        "\n",
        "df_andalas.drop('Date', axis=1, inplace=True)\n",
        "df_andalas.drop('User', axis=1, inplace=True)\n",
        "df_andalas.drop('Tweet', axis=1, inplace=True)\n",
        "df_andalas.drop('Unnamed: 0', axis=1, inplace=True)\n",
        "# df_andalas.drop('Unnamed: 0.1', axis=1, inplace=True)\n",
        "df_andalas.drop('Bool', axis=1, inplace=True)\n",
        "\n",
        "df_andalas = df_andalas.drop_duplicates()"
      ]
    },
    {
      "cell_type": "code",
      "execution_count": 21,
      "metadata": {},
      "outputs": [
        {
          "data": {
            "text/html": [
              "<div>\n",
              "<style scoped>\n",
              "    .dataframe tbody tr th:only-of-type {\n",
              "        vertical-align: middle;\n",
              "    }\n",
              "\n",
              "    .dataframe tbody tr th {\n",
              "        vertical-align: top;\n",
              "    }\n",
              "\n",
              "    .dataframe thead th {\n",
              "        text-align: right;\n",
              "    }\n",
              "</style>\n",
              "<table border=\"1\" class=\"dataframe\">\n",
              "  <thead>\n",
              "    <tr style=\"text-align: right;\">\n",
              "      <th></th>\n",
              "      <th>label</th>\n",
              "      <th>total</th>\n",
              "    </tr>\n",
              "  </thead>\n",
              "  <tbody>\n",
              "    <tr>\n",
              "      <th>1</th>\n",
              "      <td>Andalas</td>\n",
              "      <td>46</td>\n",
              "    </tr>\n",
              "  </tbody>\n",
              "</table>\n",
              "</div>"
            ],
            "text/plain": [
              "     label  total\n",
              "1  Andalas     46"
            ]
          },
          "execution_count": 21,
          "metadata": {},
          "output_type": "execute_result"
        }
      ],
      "source": [
        "df_andalas"
      ]
    },
    {
      "cell_type": "code",
      "execution_count": 24,
      "metadata": {},
      "outputs": [
        {
          "name": "stderr",
          "output_type": "stream",
          "text": [
            "C:\\Users\\Lenovo\\AppData\\Local\\Temp\\ipykernel_15132\\2779215781.py:7: SettingWithCopyWarning: \n",
            "A value is trying to be set on a copy of a slice from a DataFrame.\n",
            "Try using .loc[row_indexer,col_indexer] = value instead\n",
            "\n",
            "See the caveats in the documentation: https://pandas.pydata.org/pandas-docs/stable/user_guide/indexing.html#returning-a-view-versus-a-copy\n",
            "  df_ub['total'] = df_ub['Tweet'].count()\n",
            "C:\\Users\\Lenovo\\AppData\\Local\\Temp\\ipykernel_15132\\2779215781.py:9: SettingWithCopyWarning: \n",
            "A value is trying to be set on a copy of a slice from a DataFrame\n",
            "\n",
            "See the caveats in the documentation: https://pandas.pydata.org/pandas-docs/stable/user_guide/indexing.html#returning-a-view-versus-a-copy\n",
            "  df_ub.drop('Date', axis=1, inplace=True)\n",
            "C:\\Users\\Lenovo\\AppData\\Local\\Temp\\ipykernel_15132\\2779215781.py:10: SettingWithCopyWarning: \n",
            "A value is trying to be set on a copy of a slice from a DataFrame\n",
            "\n",
            "See the caveats in the documentation: https://pandas.pydata.org/pandas-docs/stable/user_guide/indexing.html#returning-a-view-versus-a-copy\n",
            "  df_ub.drop('User', axis=1, inplace=True)\n",
            "C:\\Users\\Lenovo\\AppData\\Local\\Temp\\ipykernel_15132\\2779215781.py:11: SettingWithCopyWarning: \n",
            "A value is trying to be set on a copy of a slice from a DataFrame\n",
            "\n",
            "See the caveats in the documentation: https://pandas.pydata.org/pandas-docs/stable/user_guide/indexing.html#returning-a-view-versus-a-copy\n",
            "  df_ub.drop('Tweet', axis=1, inplace=True)\n",
            "C:\\Users\\Lenovo\\AppData\\Local\\Temp\\ipykernel_15132\\2779215781.py:12: SettingWithCopyWarning: \n",
            "A value is trying to be set on a copy of a slice from a DataFrame\n",
            "\n",
            "See the caveats in the documentation: https://pandas.pydata.org/pandas-docs/stable/user_guide/indexing.html#returning-a-view-versus-a-copy\n",
            "  df_ub.drop('Unnamed: 0', axis=1, inplace=True)\n",
            "C:\\Users\\Lenovo\\AppData\\Local\\Temp\\ipykernel_15132\\2779215781.py:14: SettingWithCopyWarning: \n",
            "A value is trying to be set on a copy of a slice from a DataFrame\n",
            "\n",
            "See the caveats in the documentation: https://pandas.pydata.org/pandas-docs/stable/user_guide/indexing.html#returning-a-view-versus-a-copy\n",
            "  df_ub.drop('Bool', axis=1, inplace=True)\n"
          ]
        }
      ],
      "source": [
        "searchfor =['Universitas Brawijaya','brawijaya']\n",
        "dfread[\"label\"] = dfread['Tweet'].apply(lambda x: 'Brawijaya' if any(i in x for i in searchfor) else 0)\n",
        "df_ub = dfread.loc[dfread['label'] == 'Brawijaya']\n",
        "\n",
        "#df_ub = dfread.loc[dfread['label'] == 'Brawijaya']\n",
        "\n",
        "df_ub['total'] = df_ub['Tweet'].count()\n",
        "\n",
        "df_ub.drop('Date', axis=1, inplace=True)\n",
        "df_ub.drop('User', axis=1, inplace=True)\n",
        "df_ub.drop('Tweet', axis=1, inplace=True)\n",
        "df_ub.drop('Unnamed: 0', axis=1, inplace=True)\n",
        "# df_ub.drop('Unnamed: 0.1', axis=1, inplace=True)\n",
        "df_ub.drop('Bool', axis=1, inplace=True)\n",
        "\n",
        "df_unbraw = df_ub.drop_duplicates()"
      ]
    },
    {
      "cell_type": "code",
      "execution_count": 25,
      "metadata": {},
      "outputs": [
        {
          "data": {
            "text/html": [
              "<div>\n",
              "<style scoped>\n",
              "    .dataframe tbody tr th:only-of-type {\n",
              "        vertical-align: middle;\n",
              "    }\n",
              "\n",
              "    .dataframe tbody tr th {\n",
              "        vertical-align: top;\n",
              "    }\n",
              "\n",
              "    .dataframe thead th {\n",
              "        text-align: right;\n",
              "    }\n",
              "</style>\n",
              "<table border=\"1\" class=\"dataframe\">\n",
              "  <thead>\n",
              "    <tr style=\"text-align: right;\">\n",
              "      <th></th>\n",
              "      <th>label</th>\n",
              "      <th>total</th>\n",
              "    </tr>\n",
              "  </thead>\n",
              "  <tbody>\n",
              "    <tr>\n",
              "      <th>186</th>\n",
              "      <td>Brawijaya</td>\n",
              "      <td>113</td>\n",
              "    </tr>\n",
              "  </tbody>\n",
              "</table>\n",
              "</div>"
            ],
            "text/plain": [
              "         label  total\n",
              "186  Brawijaya    113"
            ]
          },
          "execution_count": 25,
          "metadata": {},
          "output_type": "execute_result"
        }
      ],
      "source": [
        "df_unbraw"
      ]
    },
    {
      "cell_type": "code",
      "execution_count": 31,
      "metadata": {},
      "outputs": [
        {
          "name": "stderr",
          "output_type": "stream",
          "text": [
            "C:\\Users\\Lenovo\\AppData\\Local\\Temp\\ipykernel_15132\\1521725571.py:6: SettingWithCopyWarning: \n",
            "A value is trying to be set on a copy of a slice from a DataFrame.\n",
            "Try using .loc[row_indexer,col_indexer] = value instead\n",
            "\n",
            "See the caveats in the documentation: https://pandas.pydata.org/pandas-docs/stable/user_guide/indexing.html#returning-a-view-versus-a-copy\n",
            "  df_gadjahMada['total'] = df_gadjahMada['Tweet'].count()\n",
            "C:\\Users\\Lenovo\\AppData\\Local\\Temp\\ipykernel_15132\\1521725571.py:8: SettingWithCopyWarning: \n",
            "A value is trying to be set on a copy of a slice from a DataFrame\n",
            "\n",
            "See the caveats in the documentation: https://pandas.pydata.org/pandas-docs/stable/user_guide/indexing.html#returning-a-view-versus-a-copy\n",
            "  df_gadjahMada.drop('Date', axis=1, inplace=True)\n",
            "C:\\Users\\Lenovo\\AppData\\Local\\Temp\\ipykernel_15132\\1521725571.py:9: SettingWithCopyWarning: \n",
            "A value is trying to be set on a copy of a slice from a DataFrame\n",
            "\n",
            "See the caveats in the documentation: https://pandas.pydata.org/pandas-docs/stable/user_guide/indexing.html#returning-a-view-versus-a-copy\n",
            "  df_gadjahMada.drop('User', axis=1, inplace=True)\n",
            "C:\\Users\\Lenovo\\AppData\\Local\\Temp\\ipykernel_15132\\1521725571.py:10: SettingWithCopyWarning: \n",
            "A value is trying to be set on a copy of a slice from a DataFrame\n",
            "\n",
            "See the caveats in the documentation: https://pandas.pydata.org/pandas-docs/stable/user_guide/indexing.html#returning-a-view-versus-a-copy\n",
            "  df_gadjahMada.drop('Tweet', axis=1, inplace=True)\n",
            "C:\\Users\\Lenovo\\AppData\\Local\\Temp\\ipykernel_15132\\1521725571.py:11: SettingWithCopyWarning: \n",
            "A value is trying to be set on a copy of a slice from a DataFrame\n",
            "\n",
            "See the caveats in the documentation: https://pandas.pydata.org/pandas-docs/stable/user_guide/indexing.html#returning-a-view-versus-a-copy\n",
            "  df_gadjahMada.drop('Unnamed: 0', axis=1, inplace=True)\n",
            "C:\\Users\\Lenovo\\AppData\\Local\\Temp\\ipykernel_15132\\1521725571.py:13: SettingWithCopyWarning: \n",
            "A value is trying to be set on a copy of a slice from a DataFrame\n",
            "\n",
            "See the caveats in the documentation: https://pandas.pydata.org/pandas-docs/stable/user_guide/indexing.html#returning-a-view-versus-a-copy\n",
            "  df_gadjahMada.drop('Bool', axis=1, inplace=True)\n"
          ]
        }
      ],
      "source": [
        "searchfor =['Universitas Gadjah Mada', 'UGM']\n",
        "dfread[\"label\"] = dfread['Tweet'].apply(lambda x: 'Gadjah Mada' if any(i in x for i in searchfor) else 0)\n",
        "\n",
        "df_gadjahMada = dfread.loc[dfread['label'] == 'Gadjah Mada']\n",
        "\n",
        "df_gadjahMada['total'] = df_gadjahMada['Tweet'].count()\n",
        "\n",
        "df_gadjahMada.drop('Date', axis=1, inplace=True)\n",
        "df_gadjahMada.drop('User', axis=1, inplace=True)\n",
        "df_gadjahMada.drop('Tweet', axis=1, inplace=True)\n",
        "df_gadjahMada.drop('Unnamed: 0', axis=1, inplace=True)\n",
        "# df_gadjahMada.drop('Unnamed: 0.1', axis=1, inplace=True)\n",
        "df_gadjahMada.drop('Bool', axis=1, inplace=True)\n",
        "\n",
        "df_gadjahMada = df_gadjahMada.drop_duplicates()"
      ]
    },
    {
      "cell_type": "code",
      "execution_count": 28,
      "metadata": {},
      "outputs": [
        {
          "data": {
            "text/html": [
              "<div>\n",
              "<style scoped>\n",
              "    .dataframe tbody tr th:only-of-type {\n",
              "        vertical-align: middle;\n",
              "    }\n",
              "\n",
              "    .dataframe tbody tr th {\n",
              "        vertical-align: top;\n",
              "    }\n",
              "\n",
              "    .dataframe thead th {\n",
              "        text-align: right;\n",
              "    }\n",
              "</style>\n",
              "<table border=\"1\" class=\"dataframe\">\n",
              "  <thead>\n",
              "    <tr style=\"text-align: right;\">\n",
              "      <th></th>\n",
              "      <th>label</th>\n",
              "      <th>total</th>\n",
              "    </tr>\n",
              "  </thead>\n",
              "  <tbody>\n",
              "    <tr>\n",
              "      <th>117</th>\n",
              "      <td>Gadjah Mada</td>\n",
              "      <td>103</td>\n",
              "    </tr>\n",
              "  </tbody>\n",
              "</table>\n",
              "</div>"
            ],
            "text/plain": [
              "           label  total\n",
              "117  Gadjah Mada    103"
            ]
          },
          "execution_count": 28,
          "metadata": {},
          "output_type": "execute_result"
        }
      ],
      "source": [
        "df_gadjahMada"
      ]
    },
    {
      "cell_type": "code",
      "execution_count": 32,
      "metadata": {},
      "outputs": [
        {
          "name": "stderr",
          "output_type": "stream",
          "text": [
            "C:\\Users\\Lenovo\\AppData\\Local\\Temp\\ipykernel_15132\\1665891588.py:6: SettingWithCopyWarning: \n",
            "A value is trying to be set on a copy of a slice from a DataFrame.\n",
            "Try using .loc[row_indexer,col_indexer] = value instead\n",
            "\n",
            "See the caveats in the documentation: https://pandas.pydata.org/pandas-docs/stable/user_guide/indexing.html#returning-a-view-versus-a-copy\n",
            "  df_padjadjaran['total'] = df_padjadjaran['Tweet'].count()\n",
            "C:\\Users\\Lenovo\\AppData\\Local\\Temp\\ipykernel_15132\\1665891588.py:8: SettingWithCopyWarning: \n",
            "A value is trying to be set on a copy of a slice from a DataFrame\n",
            "\n",
            "See the caveats in the documentation: https://pandas.pydata.org/pandas-docs/stable/user_guide/indexing.html#returning-a-view-versus-a-copy\n",
            "  df_padjadjaran.drop('Date', axis=1, inplace=True)\n",
            "C:\\Users\\Lenovo\\AppData\\Local\\Temp\\ipykernel_15132\\1665891588.py:9: SettingWithCopyWarning: \n",
            "A value is trying to be set on a copy of a slice from a DataFrame\n",
            "\n",
            "See the caveats in the documentation: https://pandas.pydata.org/pandas-docs/stable/user_guide/indexing.html#returning-a-view-versus-a-copy\n",
            "  df_padjadjaran.drop('User', axis=1, inplace=True)\n",
            "C:\\Users\\Lenovo\\AppData\\Local\\Temp\\ipykernel_15132\\1665891588.py:10: SettingWithCopyWarning: \n",
            "A value is trying to be set on a copy of a slice from a DataFrame\n",
            "\n",
            "See the caveats in the documentation: https://pandas.pydata.org/pandas-docs/stable/user_guide/indexing.html#returning-a-view-versus-a-copy\n",
            "  df_padjadjaran.drop('Tweet', axis=1, inplace=True)\n",
            "C:\\Users\\Lenovo\\AppData\\Local\\Temp\\ipykernel_15132\\1665891588.py:11: SettingWithCopyWarning: \n",
            "A value is trying to be set on a copy of a slice from a DataFrame\n",
            "\n",
            "See the caveats in the documentation: https://pandas.pydata.org/pandas-docs/stable/user_guide/indexing.html#returning-a-view-versus-a-copy\n",
            "  df_padjadjaran.drop('Unnamed: 0', axis=1, inplace=True)\n",
            "C:\\Users\\Lenovo\\AppData\\Local\\Temp\\ipykernel_15132\\1665891588.py:13: SettingWithCopyWarning: \n",
            "A value is trying to be set on a copy of a slice from a DataFrame\n",
            "\n",
            "See the caveats in the documentation: https://pandas.pydata.org/pandas-docs/stable/user_guide/indexing.html#returning-a-view-versus-a-copy\n",
            "  df_padjadjaran.drop('Bool', axis=1, inplace=True)\n"
          ]
        }
      ],
      "source": [
        "searchfor =['Universitas Padjadjaran', 'padjadjaran']\n",
        "dfread[\"label\"] = dfread['Tweet'].apply(lambda x: 'Padjadjaran' if any(i in x for i in searchfor) else 0)\n",
        "\n",
        "df_padjadjaran = dfread.loc[dfread['label'] == 'Padjadjaran']\n",
        "\n",
        "df_padjadjaran['total'] = df_padjadjaran['Tweet'].count()\n",
        "\n",
        "df_padjadjaran.drop('Date', axis=1, inplace=True)\n",
        "df_padjadjaran.drop('User', axis=1, inplace=True)\n",
        "df_padjadjaran.drop('Tweet', axis=1, inplace=True)\n",
        "df_padjadjaran.drop('Unnamed: 0', axis=1, inplace=True)\n",
        "# df_gadjahMada.drop('Unnamed: 0.1', axis=1, inplace=True)\n",
        "df_padjadjaran.drop('Bool', axis=1, inplace=True)\n",
        "\n",
        "df_padjadjaran = df_padjadjaran.drop_duplicates()"
      ]
    },
    {
      "cell_type": "code",
      "execution_count": 33,
      "metadata": {},
      "outputs": [
        {
          "data": {
            "text/html": [
              "<div>\n",
              "<style scoped>\n",
              "    .dataframe tbody tr th:only-of-type {\n",
              "        vertical-align: middle;\n",
              "    }\n",
              "\n",
              "    .dataframe tbody tr th {\n",
              "        vertical-align: top;\n",
              "    }\n",
              "\n",
              "    .dataframe thead th {\n",
              "        text-align: right;\n",
              "    }\n",
              "</style>\n",
              "<table border=\"1\" class=\"dataframe\">\n",
              "  <thead>\n",
              "    <tr style=\"text-align: right;\">\n",
              "      <th></th>\n",
              "      <th>label</th>\n",
              "      <th>total</th>\n",
              "    </tr>\n",
              "  </thead>\n",
              "  <tbody>\n",
              "    <tr>\n",
              "      <th>419</th>\n",
              "      <td>Padjadjaran</td>\n",
              "      <td>44</td>\n",
              "    </tr>\n",
              "  </tbody>\n",
              "</table>\n",
              "</div>"
            ],
            "text/plain": [
              "           label  total\n",
              "419  Padjadjaran     44"
            ]
          },
          "execution_count": 33,
          "metadata": {},
          "output_type": "execute_result"
        }
      ],
      "source": [
        "df_padjadjaran"
      ]
    },
    {
      "cell_type": "code",
      "execution_count": 37,
      "metadata": {},
      "outputs": [
        {
          "data": {
            "image/png": "[encoded data removed]",
            "text/plain": [
              "<Figure size 800x600 with 1 Axes>"
            ]
          },
          "metadata": {},
          "output_type": "display_data"
        }
      ],
      "source": [
        "df_univ = pd.concat([df_andalas, df_uns,df_gundar,df_ub,df_padjadjaran, df_gadjahMada])\n",
        "\n",
        "y = df_univ['total']\n",
        "x = df_univ['label']\n",
        "\n",
        "plt.style.use('ggplot')\n",
        "plt.figure(figsize=(8, 6))\n",
        "plt.title('Jumlah Penggunaan Keyword Nama Universitas Pada Tweet Kasus Seksual di Universitas')\n",
        "plt.xlabel('Nama Universitas')\n",
        "plt.ylabel('Jumlah')\n",
        "plt.bar(x,y)\n",
        "plt.show()\n"
      ]
    }
  ],
  "metadata": {
    "colab": {
      "provenance": []
    },
    "kernelspec": {
      "display_name": "Python 3",
      "language": "python",
      "name": "python3"
    },
    "language_info": {
      "codemirror_mode": {
        "name": "ipython",
        "version": 3
      },
      "file_extension": ".py",
      "mimetype": "text/x-python",
      "name": "python",
      "nbconvert_exporter": "python",
      "pygments_lexer": "ipython3",
      "version": "3.11.1"
    },
    "orig_nbformat": 4,
    "vscode": {
      "interpreter": {
        "hash": "e956c49ae0caa224b5fdd754cbc353d7e61c6c61f7329ee680c7f7b4f1b71a8e"
      }
    }
  },
  "nbformat": 4,
  "nbformat_minor": 0
}
